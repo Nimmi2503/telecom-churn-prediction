
# Telecom Churn Prediction

## Step 1: Data Preprocessing and Filtering

```python
import pandas as pd

# Load the dataset
data = pd.read_csv('your_dataset.csv')

# Handle missing values (fill or drop)
data.fillna(method='ffill', inplace=True)

# Filter high-value customers (70th percentile of recharge)
recharge_percentile = data[['recharge_6', 'recharge_7']].mean(axis=1).quantile(0.7)
high_value_customers = data[data[['recharge_6', 'recharge_7']].mean(axis=1) >= recharge_percentile]

# Tag churners based on September usage
high_value_customers['churn'] = ((high_value_customers['total_ic_mou_9'] == 0) &
                                 (high_value_customers['total_og_mou_9'] == 0) &
                                 (high_value_customers['vol_2g_mb_9'] == 0) &
                                 (high_value_customers['vol_3g_mb_9'] == 0)).astype(int)

# Drop churn phase attributes (columns ending with '_9')
high_value_customers = high_value_customers.drop(columns=[col for col in high_value_customers.columns if col.endswith('_9')])

# Display first few rows
high_value_customers.head()
```

## Step 2: Exploratory Data Analysis (EDA)

```python
import seaborn as sns
import matplotlib.pyplot as plt

# Plot distribution of recharge amounts
plt.figure(figsize=(10, 6))
sns.histplot(high_value_customers['recharge_6'], kde=True, label='Recharge June')
sns.histplot(high_value_customers['recharge_7'], kde=True, label='Recharge July')
plt.legend()
plt.title('Recharge Amount Distribution')
plt.show()

# Correlation heatmap to understand feature relationships
corr_matrix = high_value_customers.corr()
plt.figure(figsize=(12, 8))
sns.heatmap(corr_matrix, annot=True, cmap='coolwarm')
plt.title('Correlation Heatmap')
plt.show()
```

## Step 3: Feature Engineering

```python
# Example: Difference in usage between good and action phase
high_value_customers['usage_diff'] = (high_value_customers['total_ic_mou_7'] + high_value_customers['total_og_mou_7']) - (high_value_customers['total_ic_mou_6'] + high_value_customers['total_og_mou_6'])

# Create new features based on insights from EDA
high_value_customers['recharge_usage_ratio'] = high_value_customers['recharge_6'] / (high_value_customers['total_ic_mou_6'] + high_value_customers['total_og_mou_6'])

# Display first few rows with new features
high_value_customers.head()
```

## Step 4: Model Building

```python
from sklearn.model_selection import train_test_split
from sklearn.linear_model import LogisticRegression
from sklearn.metrics import classification_report, roc_auc_score

# Split data into features (X) and target (y)
X = high_value_customers.drop(columns=['churn'])
y = high_value_customers['churn']

# Train-test split
X_train, X_test, y_train, y_test = train_test_split(X, y, test_size=0.3, random_state=42)

# Logistic Regression Model
model = LogisticRegression(max_iter=1000)
model.fit(X_train, y_train)

# Evaluate the model
y_pred = model.predict(X_test)
print(classification_report(y_test, y_pred))
print('ROC-AUC Score:', roc_auc_score(y_test, y_pred))
```

## Step 5: Feature Importance (Optional)

```python
from sklearn.ensemble import RandomForestClassifier

# Train a Random Forest model for feature importance
rf_model = RandomForestClassifier(n_estimators=100, random_state=42)
rf_model.fit(X_train, y_train)

# Plot feature importance
feature_importances = pd.Series(rf_model.feature_importances_, index=X.columns).sort_values(ascending=False)
feature_importances.plot(kind='bar', figsize=(10, 6))
plt.title('Feature Importance')
plt.show()
```

